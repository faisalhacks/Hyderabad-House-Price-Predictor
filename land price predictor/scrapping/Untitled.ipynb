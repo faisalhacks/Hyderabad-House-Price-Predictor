{
 "cells": [
  {
   "cell_type": "code",
   "execution_count": 2,
   "id": "70b8ea34-ecd4-4abe-b089-ed067d57d09d",
   "metadata": {},
   "outputs": [
    {
     "ename": "ImportError",
     "evalue": "DLL load failed while importing _multiarray_umath: The specified module could not be found.",
     "output_type": "error",
     "traceback": [
      "\u001b[1;31m---------------------------------------------------------------------------\u001b[0m",
      "\u001b[1;31mImportError\u001b[0m                               Traceback (most recent call last)",
      "\u001b[1;31mImportError\u001b[0m: DLL load failed while importing _multiarray_umath: The specified module could not be found."
     ]
    },
    {
     "ename": "ImportError",
     "evalue": "numpy._core.multiarray failed to import",
     "output_type": "error",
     "traceback": [
      "\u001b[1;31m---------------------------------------------------------------------------\u001b[0m",
      "\u001b[1;31mImportError\u001b[0m                               Traceback (most recent call last)",
      "Cell \u001b[1;32mIn[2], line 3\u001b[0m\n\u001b[0;32m      1\u001b[0m \u001b[38;5;28;01mfrom\u001b[39;00m \u001b[38;5;21;01mbs4\u001b[39;00m \u001b[38;5;28;01mimport\u001b[39;00m BeautifulSoup \u001b[38;5;28;01mas\u001b[39;00m soup\n\u001b[0;32m      2\u001b[0m \u001b[38;5;28;01mfrom\u001b[39;00m \u001b[38;5;21;01mrequests\u001b[39;00m \u001b[38;5;28;01mimport\u001b[39;00m get\n\u001b[1;32m----> 3\u001b[0m \u001b[38;5;28;01mimport\u001b[39;00m \u001b[38;5;21;01mpandas\u001b[39;00m \u001b[38;5;28;01mas\u001b[39;00m \u001b[38;5;21;01mpd\u001b[39;00m\n\u001b[0;32m      4\u001b[0m \u001b[38;5;28;01mimport\u001b[39;00m \u001b[38;5;21;01mrequests\u001b[39;00m\n\u001b[0;32m      5\u001b[0m \u001b[38;5;28;01mimport\u001b[39;00m \u001b[38;5;21;01mre\u001b[39;00m\n",
      "File \u001b[1;32mC:\\ProgramData\\mambaforge\\envs\\HVP\\Lib\\site-packages\\pandas\\__init__.py:62\u001b[0m\n\u001b[0;32m     59\u001b[0m \u001b[38;5;66;03m# let init-time option registration happen\u001b[39;00m\n\u001b[0;32m     60\u001b[0m \u001b[38;5;28;01mimport\u001b[39;00m \u001b[38;5;21;01mpandas\u001b[39;00m\u001b[38;5;21;01m.\u001b[39;00m\u001b[38;5;21;01mcore\u001b[39;00m\u001b[38;5;21;01m.\u001b[39;00m\u001b[38;5;21;01mconfig_init\u001b[39;00m  \u001b[38;5;66;03m# pyright: ignore[reportUnusedImport] # noqa: F401\u001b[39;00m\n\u001b[1;32m---> 62\u001b[0m \u001b[38;5;28;01mfrom\u001b[39;00m \u001b[38;5;21;01mpandas\u001b[39;00m\u001b[38;5;21;01m.\u001b[39;00m\u001b[38;5;21;01mcore\u001b[39;00m\u001b[38;5;21;01m.\u001b[39;00m\u001b[38;5;21;01mapi\u001b[39;00m \u001b[38;5;28;01mimport\u001b[39;00m (\n\u001b[0;32m     63\u001b[0m     \u001b[38;5;66;03m# dtype\u001b[39;00m\n\u001b[0;32m     64\u001b[0m     ArrowDtype,\n\u001b[0;32m     65\u001b[0m     Int8Dtype,\n\u001b[0;32m     66\u001b[0m     Int16Dtype,\n\u001b[0;32m     67\u001b[0m     Int32Dtype,\n\u001b[0;32m     68\u001b[0m     Int64Dtype,\n\u001b[0;32m     69\u001b[0m     UInt8Dtype,\n\u001b[0;32m     70\u001b[0m     UInt16Dtype,\n\u001b[0;32m     71\u001b[0m     UInt32Dtype,\n\u001b[0;32m     72\u001b[0m     UInt64Dtype,\n\u001b[0;32m     73\u001b[0m     Float32Dtype,\n\u001b[0;32m     74\u001b[0m     Float64Dtype,\n\u001b[0;32m     75\u001b[0m     CategoricalDtype,\n\u001b[0;32m     76\u001b[0m     PeriodDtype,\n\u001b[0;32m     77\u001b[0m     IntervalDtype,\n\u001b[0;32m     78\u001b[0m     DatetimeTZDtype,\n\u001b[0;32m     79\u001b[0m     StringDtype,\n\u001b[0;32m     80\u001b[0m     BooleanDtype,\n\u001b[0;32m     81\u001b[0m     \u001b[38;5;66;03m# missing\u001b[39;00m\n\u001b[0;32m     82\u001b[0m     NA,\n\u001b[0;32m     83\u001b[0m     isna,\n\u001b[0;32m     84\u001b[0m     isnull,\n\u001b[0;32m     85\u001b[0m     notna,\n\u001b[0;32m     86\u001b[0m     notnull,\n\u001b[0;32m     87\u001b[0m     \u001b[38;5;66;03m# indexes\u001b[39;00m\n\u001b[0;32m     88\u001b[0m     Index,\n\u001b[0;32m     89\u001b[0m     CategoricalIndex,\n\u001b[0;32m     90\u001b[0m     RangeIndex,\n\u001b[0;32m     91\u001b[0m     MultiIndex,\n\u001b[0;32m     92\u001b[0m     IntervalIndex,\n\u001b[0;32m     93\u001b[0m     TimedeltaIndex,\n\u001b[0;32m     94\u001b[0m     DatetimeIndex,\n\u001b[0;32m     95\u001b[0m     PeriodIndex,\n\u001b[0;32m     96\u001b[0m     IndexSlice,\n\u001b[0;32m     97\u001b[0m     \u001b[38;5;66;03m# tseries\u001b[39;00m\n\u001b[0;32m     98\u001b[0m     NaT,\n\u001b[0;32m     99\u001b[0m     Period,\n\u001b[0;32m    100\u001b[0m     period_range,\n\u001b[0;32m    101\u001b[0m     Timedelta,\n\u001b[0;32m    102\u001b[0m     timedelta_range,\n\u001b[0;32m    103\u001b[0m     Timestamp,\n\u001b[0;32m    104\u001b[0m     date_range,\n\u001b[0;32m    105\u001b[0m     bdate_range,\n\u001b[0;32m    106\u001b[0m     Interval,\n\u001b[0;32m    107\u001b[0m     interval_range,\n\u001b[0;32m    108\u001b[0m     DateOffset,\n\u001b[0;32m    109\u001b[0m     \u001b[38;5;66;03m# conversion\u001b[39;00m\n\u001b[0;32m    110\u001b[0m     to_numeric,\n\u001b[0;32m    111\u001b[0m     to_datetime,\n\u001b[0;32m    112\u001b[0m     to_timedelta,\n\u001b[0;32m    113\u001b[0m     \u001b[38;5;66;03m# misc\u001b[39;00m\n\u001b[0;32m    114\u001b[0m     Flags,\n\u001b[0;32m    115\u001b[0m     Grouper,\n\u001b[0;32m    116\u001b[0m     factorize,\n\u001b[0;32m    117\u001b[0m     unique,\n\u001b[0;32m    118\u001b[0m     value_counts,\n\u001b[0;32m    119\u001b[0m     NamedAgg,\n\u001b[0;32m    120\u001b[0m     array,\n\u001b[0;32m    121\u001b[0m     Categorical,\n\u001b[0;32m    122\u001b[0m     set_eng_float_format,\n\u001b[0;32m    123\u001b[0m     Series,\n\u001b[0;32m    124\u001b[0m     DataFrame,\n\u001b[0;32m    125\u001b[0m )\n\u001b[0;32m    127\u001b[0m \u001b[38;5;28;01mfrom\u001b[39;00m \u001b[38;5;21;01mpandas\u001b[39;00m\u001b[38;5;21;01m.\u001b[39;00m\u001b[38;5;21;01mcore\u001b[39;00m\u001b[38;5;21;01m.\u001b[39;00m\u001b[38;5;21;01mdtypes\u001b[39;00m\u001b[38;5;21;01m.\u001b[39;00m\u001b[38;5;21;01mdtypes\u001b[39;00m \u001b[38;5;28;01mimport\u001b[39;00m SparseDtype\n\u001b[0;32m    129\u001b[0m \u001b[38;5;28;01mfrom\u001b[39;00m \u001b[38;5;21;01mpandas\u001b[39;00m\u001b[38;5;21;01m.\u001b[39;00m\u001b[38;5;21;01mtseries\u001b[39;00m\u001b[38;5;21;01m.\u001b[39;00m\u001b[38;5;21;01mapi\u001b[39;00m \u001b[38;5;28;01mimport\u001b[39;00m infer_freq\n",
      "File \u001b[1;32mC:\\ProgramData\\mambaforge\\envs\\HVP\\Lib\\site-packages\\pandas\\core\\api.py:1\u001b[0m\n\u001b[1;32m----> 1\u001b[0m \u001b[38;5;28;01mfrom\u001b[39;00m \u001b[38;5;21;01mpandas\u001b[39;00m\u001b[38;5;21;01m.\u001b[39;00m\u001b[38;5;21;01m_libs\u001b[39;00m \u001b[38;5;28;01mimport\u001b[39;00m (\n\u001b[0;32m      2\u001b[0m     NaT,\n\u001b[0;32m      3\u001b[0m     Period,\n\u001b[0;32m      4\u001b[0m     Timedelta,\n\u001b[0;32m      5\u001b[0m     Timestamp,\n\u001b[0;32m      6\u001b[0m )\n\u001b[0;32m      7\u001b[0m \u001b[38;5;28;01mfrom\u001b[39;00m \u001b[38;5;21;01mpandas\u001b[39;00m\u001b[38;5;21;01m.\u001b[39;00m\u001b[38;5;21;01m_libs\u001b[39;00m\u001b[38;5;21;01m.\u001b[39;00m\u001b[38;5;21;01mmissing\u001b[39;00m \u001b[38;5;28;01mimport\u001b[39;00m NA\n\u001b[0;32m      9\u001b[0m \u001b[38;5;28;01mfrom\u001b[39;00m \u001b[38;5;21;01mpandas\u001b[39;00m\u001b[38;5;21;01m.\u001b[39;00m\u001b[38;5;21;01mcore\u001b[39;00m\u001b[38;5;21;01m.\u001b[39;00m\u001b[38;5;21;01mdtypes\u001b[39;00m\u001b[38;5;21;01m.\u001b[39;00m\u001b[38;5;21;01mdtypes\u001b[39;00m \u001b[38;5;28;01mimport\u001b[39;00m (\n\u001b[0;32m     10\u001b[0m     ArrowDtype,\n\u001b[0;32m     11\u001b[0m     CategoricalDtype,\n\u001b[1;32m   (...)\u001b[0m\n\u001b[0;32m     14\u001b[0m     PeriodDtype,\n\u001b[0;32m     15\u001b[0m )\n",
      "File \u001b[1;32mC:\\ProgramData\\mambaforge\\envs\\HVP\\Lib\\site-packages\\pandas\\_libs\\__init__.py:17\u001b[0m\n\u001b[0;32m     13\u001b[0m \u001b[38;5;66;03m# Below imports needs to happen first to ensure pandas top level\u001b[39;00m\n\u001b[0;32m     14\u001b[0m \u001b[38;5;66;03m# module gets monkeypatched with the pandas_datetime_CAPI\u001b[39;00m\n\u001b[0;32m     15\u001b[0m \u001b[38;5;66;03m# see pandas_datetime_exec in pd_datetime.c\u001b[39;00m\n\u001b[0;32m     16\u001b[0m \u001b[38;5;28;01mimport\u001b[39;00m \u001b[38;5;21;01mpandas\u001b[39;00m\u001b[38;5;21;01m.\u001b[39;00m\u001b[38;5;21;01m_libs\u001b[39;00m\u001b[38;5;21;01m.\u001b[39;00m\u001b[38;5;21;01mpandas_parser\u001b[39;00m  \u001b[38;5;66;03m# isort: skip # type: ignore[reportUnusedImport]\u001b[39;00m\n\u001b[1;32m---> 17\u001b[0m \u001b[38;5;28;01mimport\u001b[39;00m \u001b[38;5;21;01mpandas\u001b[39;00m\u001b[38;5;21;01m.\u001b[39;00m\u001b[38;5;21;01m_libs\u001b[39;00m\u001b[38;5;21;01m.\u001b[39;00m\u001b[38;5;21;01mpandas_datetime\u001b[39;00m  \u001b[38;5;66;03m# noqa: F401 # isort: skip # type: ignore[reportUnusedImport]\u001b[39;00m\n\u001b[0;32m     18\u001b[0m \u001b[38;5;28;01mfrom\u001b[39;00m \u001b[38;5;21;01mpandas\u001b[39;00m\u001b[38;5;21;01m.\u001b[39;00m\u001b[38;5;21;01m_libs\u001b[39;00m\u001b[38;5;21;01m.\u001b[39;00m\u001b[38;5;21;01minterval\u001b[39;00m \u001b[38;5;28;01mimport\u001b[39;00m Interval\n\u001b[0;32m     19\u001b[0m \u001b[38;5;28;01mfrom\u001b[39;00m \u001b[38;5;21;01mpandas\u001b[39;00m\u001b[38;5;21;01m.\u001b[39;00m\u001b[38;5;21;01m_libs\u001b[39;00m\u001b[38;5;21;01m.\u001b[39;00m\u001b[38;5;21;01mtslibs\u001b[39;00m \u001b[38;5;28;01mimport\u001b[39;00m (\n\u001b[0;32m     20\u001b[0m     NaT,\n\u001b[0;32m     21\u001b[0m     NaTType,\n\u001b[1;32m   (...)\u001b[0m\n\u001b[0;32m     26\u001b[0m     iNaT,\n\u001b[0;32m     27\u001b[0m )\n",
      "\u001b[1;31mImportError\u001b[0m: numpy._core.multiarray failed to import"
     ]
    }
   ],
   "source": [
    "from bs4 import BeautifulSoup as soup\n",
    "from requests import get\n",
    "import pandas as pd\n",
    "import requests\n",
    "import re"
   ]
  },
  {
   "cell_type": "code",
   "execution_count": null,
   "id": "4a7a0edd-b21a-4568-adbd-f8a7e87c5fb4",
   "metadata": {},
   "outputs": [],
   "source": [
    "page=('https://www.makaan.com/hyderabad-residential-property/buy-property-in-hyderabad-city?page=3&_=1719821433211')"
   ]
  },
  {
   "cell_type": "code",
   "execution_count": null,
   "id": "51944b88-30c0-46dd-bc96-b2cac1b2ca35",
   "metadata": {},
   "outputs": [],
   "source": [
    "response = requests.get('https://www.makaan.com/hyderabad-residential-property/buy-property-in-hyderabad-city?budget=,&page=3')"
   ]
  },
  {
   "cell_type": "code",
   "execution_count": null,
   "id": "b19e6e27-10b4-4aba-a19a-6935d4005459",
   "metadata": {},
   "outputs": [],
   "source": [
    "response.text"
   ]
  },
  {
   "cell_type": "code",
   "execution_count": null,
   "id": "5fa9e966-12e1-4a76-ba9c-f4b6558b7ebb",
   "metadata": {},
   "outputs": [],
   "source": [
    "title=[]\n",
    "location=[]\n",
    "price=[]\n",
    "price_per_sqft=[]\n",
    "area_in_sqft=[]\n",
    "building_status=[]"
   ]
  },
  {
   "cell_type": "code",
   "execution_count": null,
   "id": "56f3af5d-b117-4999-ae7f-5c2128de3b03",
   "metadata": {},
   "outputs": [],
   "source": [
    "n_pages = 0\n",
    "for page in range(3,5):  #The no. of pages you wanted to scrap considering pages available in the url.\n",
    "    n_pages += 1\n",
    "    url = 'https://www.makaan.com/hyderabad-residential-property/buy-property-in-hyderabad-city?budget=,'+'&page='+str(page)\n",
    "    # This for gets us into next page after every iteration.\n",
    "    r = requests.get(url) # Here r is response data.\n",
    "    page_html = soup(r.text, 'html.parser')\n",
    "    house_containers = page_html.find_all(\"li\",class_=\"cardholder\") # Class containing overall data of a property.\n",
    "    for data in house_containers:\n",
    "################################   TITLE   ########################################\n",
    "\n",
    "        type_=data.find_all(\"a\",class_=\"typelink\") # Class containing title name of a property.\n",
    "        for i in type_:\n",
    "            d=i.text\n",
    "            title.append(d) # Appending the extracted data into a list.\n",
    "\n",
    "################################ LOCATION  #######################################\n",
    "\n",
    "        location_=data.find_all(\"a\",class_=\"loclink\")\n",
    "        for i in location_:\n",
    "            d=i.text\n",
    "            r= d.split(',',)[0] # Splitting the obtained text and returning the first element of text.\n",
    "            location.append(r)\n",
    "\n",
    "################################    PRICE    ######################################\n",
    "\n",
    "        cost=data.find_all(\"td\",class_=\"price\")\n",
    "        for i in cost:\n",
    "            d=i.text\n",
    "            if 'L' in d:\n",
    "                a = d.split()[0]\n",
    "                price.append(float(a)) # Type conversion of obtained data.\n",
    "            elif 'Cr' in d:\n",
    "                b = d.split()[0]\n",
    "                price.append(float(b) * 100) # Coverting CRORES into LAKHS.\n",
    "            else:  # If no value found in the class return value 0.\n",
    "                e=0\n",
    "                price.append(float(e))\n",
    "\n",
    "############################   PRICE PER SQFT   ###################################\n",
    "\n",
    "        rate_sqft=data.find_all('td',class_=\"lbl rate\")\n",
    "        for i in rate_sqft:\n",
    "            d=i.text\n",
    "            res= d.split('/',)[0]\n",
    "            r=re.sub(\",\",\"\" ,res) # Substitute no character in the place of ,(comma).\n",
    "            price_per_sqft.append(r)\n",
    "\n",
    "############################   AREA IN SQFT    ####################################\n",
    "\n",
    "        area_sqft=data.find_all('td',class_=\"size\")\n",
    "        for i in area_sqft:\n",
    "            d=i.text\n",
    "            area_in_sqft.append(d)\n",
    "\n",
    "##########################   BUILDING STATUS    ###################################\n",
    "\n",
    "        building_status_=data.find_all(\"td\",class_=\"val\")\n",
    "        for i in building_status_:\n",
    "            d=i.text\n",
    "            building_status.append(d)\n",
    "\n",
    "###################################################################################\n",
    "print('You scraped {} pages containing {} properties.'.format(n_pages, len(title)))\n",
    "# Returns the number of pages scrapped and time taken for scarpping those pages."
   ]
  },
  {
   "cell_type": "code",
   "execution_count": null,
   "id": "9f374875-fc68-472d-9f13-cb055b2d0b99",
   "metadata": {},
   "outputs": [],
   "source": [
    "# Defining a dataframe.\n",
    "\n",
    "df=pd.DataFrame()"
   ]
  },
  {
   "cell_type": "code",
   "execution_count": null,
   "id": "c2a965d8-10b1-42df-8d69-f31b117081f0",
   "metadata": {},
   "outputs": [],
   "source": [
    "\n",
    "df['title']=title \n",
    "df['location']=location\n",
    "df['price(L)']=price\n",
    "df['rate_persqft']=price_per_sqft\n",
    "df['area_insqft']=area_in_sqft\n",
    "df['building_status']=building_status\n"
   ]
  },
  {
   "cell_type": "code",
   "execution_count": null,
   "id": "9f5f9485-7385-4b87-a72b-862e273fe340",
   "metadata": {},
   "outputs": [],
   "source": [
    "\n",
    "d=df.to_csv('Hyderbad_House_price.csv')\n"
   ]
  },
  {
   "cell_type": "code",
   "execution_count": null,
   "id": "f129690a-3e64-4fd3-bd60-1cce901b4b2d",
   "metadata": {},
   "outputs": [],
   "source": [
    "d1=pd.read_csv(\"Hyderbad_House_price.csv\")"
   ]
  },
  {
   "cell_type": "code",
   "execution_count": null,
   "id": "0d74ffce-bb30-4c2b-b7f2-039e9eace9c6",
   "metadata": {},
   "outputs": [],
   "source": [
    "import pandas as pd"
   ]
  },
  {
   "cell_type": "code",
   "execution_count": null,
   "id": "3d42dafc-4e0e-4442-9611-a8a4df852133",
   "metadata": {},
   "outputs": [],
   "source": [
    "!pip install pandas"
   ]
  },
  {
   "cell_type": "code",
   "execution_count": null,
   "id": "ca2e2455-1e0c-4873-8fbc-a944fe274d6c",
   "metadata": {},
   "outputs": [],
   "source": [
    "d1.shape"
   ]
  },
  {
   "cell_type": "code",
   "execution_count": null,
   "id": "6c5b32b6-85eb-4e9a-acff-e848cc2be5ee",
   "metadata": {},
   "outputs": [],
   "source": [
    "d1.head()"
   ]
  },
  {
   "cell_type": "code",
   "execution_count": null,
   "id": "fba59472-1f54-4376-a16e-d19350b2938d",
   "metadata": {},
   "outputs": [],
   "source": [
    "d1.drop(columns='Unnamed: 0',axis=1,inplace=True)"
   ]
  },
  {
   "cell_type": "code",
   "execution_count": null,
   "id": "06bc0862-cb7c-42d0-89ac-c8a1b644fca2",
   "metadata": {},
   "outputs": [],
   "source": [
    "d1.keys()"
   ]
  },
  {
   "cell_type": "code",
   "execution_count": null,
   "id": "88f49646-73c4-4178-a5a8-10c761d2c464",
   "metadata": {},
   "outputs": [],
   "source": [
    "d1.dtypes"
   ]
  },
  {
   "cell_type": "code",
   "execution_count": null,
   "id": "1369d14f-91d5-4b01-b971-148042204d11",
   "metadata": {},
   "outputs": [],
   "source": [
    "d2=d1.drop_duplicates()"
   ]
  },
  {
   "cell_type": "code",
   "execution_count": null,
   "id": "41fcc7cf-3522-4e5c-b322-f0e0612a7d05",
   "metadata": {},
   "outputs": [],
   "source": [
    "d2.shape"
   ]
  },
  {
   "cell_type": "code",
   "execution_count": null,
   "id": "6a682267-c68c-4cf2-944b-302165a2fc31",
   "metadata": {},
   "outputs": [],
   "source": [
    "# Drop a specific column\n",
    "d3=d2.drop('Unnamed: 0', axis=1, inplace=True)\n",
    "\n"
   ]
  },
  {
   "cell_type": "code",
   "execution_count": null,
   "id": "1977c29c-54d0-4a7e-a822-379c63ff0559",
   "metadata": {},
   "outputs": [],
   "source": [
    "# List all columns\n",
    "columns = d2.columns\n",
    "\n",
    "# Print the list of columns\n",
    "print(columns)\n"
   ]
  },
  {
   "cell_type": "code",
   "execution_count": null,
   "id": "d0a56bd3-3d30-48f3-b2c4-d9a7f90864f7",
   "metadata": {},
   "outputs": [],
   "source": [
    "d2.info"
   ]
  },
  {
   "cell_type": "code",
   "execution_count": null,
   "id": "93520f87-7666-425b-b287-b74c724dce7d",
   "metadata": {},
   "outputs": [],
   "source": [
    "null_values = d2.isnull().any().any()\n",
    "\n",
    "if null_values:\n",
    "    print(\"There are null values in the dataset.\")\n",
    "else:\n",
    "    print(\"There are no null values in the dataset.\")"
   ]
  },
  {
   "cell_type": "code",
   "execution_count": null,
   "id": "5eb31ea4-951f-4383-ac30-33fbeb2562af",
   "metadata": {},
   "outputs": [],
   "source": [
    "d2.info()"
   ]
  },
  {
   "cell_type": "code",
   "execution_count": null,
   "id": "14b5ce9f-29e7-438d-9c2f-cbc67aa17801",
   "metadata": {},
   "outputs": [],
   "source": [
    "d2.tail()"
   ]
  },
  {
   "cell_type": "code",
   "execution_count": null,
   "id": "23948029-8350-4227-90f5-c785d340e36d",
   "metadata": {},
   "outputs": [],
   "source": [
    "d2.nunique()"
   ]
  },
  {
   "cell_type": "code",
   "execution_count": null,
   "id": "fc75f5b8-f3df-4a9a-93ce-53f8166721c5",
   "metadata": {},
   "outputs": [],
   "source": [
    "from sklearn.model_selection import train_test_split\n",
    "from sklearn.linear_model import LinearRegression\n",
    "import pickle\n",
    "\n",
    "\n",
    "X = d2.iloc[:, 0:4]\n",
    "y = d2.iloc[:, 4:]\n",
    "\n",
    "\n",
    "X_train, X_test, y_train, y_test = train_test_split(X, y, test_size=0.25)\n",
    "\n",
    "lr = LinearRegression()\n",
    "lr.fit(X_train, y_train)\n",
    "\n",
    "pickle.dump(lr, open('model.pkl', 'wb'))"
   ]
  },
  {
   "cell_type": "code",
   "execution_count": null,
   "id": "e1810415-d4e4-484f-99b1-09f43959e4c8",
   "metadata": {},
   "outputs": [],
   "source": [
    "!pip install pandas"
   ]
  },
  {
   "cell_type": "code",
   "execution_count": null,
   "id": "75fd0f49-f8b4-4d07-a41f-73d259127ce5",
   "metadata": {},
   "outputs": [],
   "source": []
  }
 ],
 "metadata": {
  "kernelspec": {
   "display_name": "Python 3 (ipykernel)",
   "language": "python",
   "name": "python3"
  },
  "language_info": {
   "codemirror_mode": {
    "name": "ipython",
    "version": 3
   },
   "file_extension": ".py",
   "mimetype": "text/x-python",
   "name": "python",
   "nbconvert_exporter": "python",
   "pygments_lexer": "ipython3",
   "version": "3.12.4"
  }
 },
 "nbformat": 4,
 "nbformat_minor": 5
}
